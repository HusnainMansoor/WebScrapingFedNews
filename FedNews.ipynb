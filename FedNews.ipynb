{
 "cells": [
  {
   "cell_type": "code",
   "execution_count": 39,
   "id": "c4b6e6dc",
   "metadata": {},
   "outputs": [
    {
     "name": "stderr",
     "output_type": "stream",
     "text": [
      "[*********************100%%**********************]  1 of 1 completed\n",
      "[*********************100%%**********************]  1 of 1 completed\n",
      "[*********************100%%**********************]  1 of 1 completed\n",
      "[*********************100%%**********************]  1 of 1 completed\n",
      "[*********************100%%**********************]  1 of 1 completed\n",
      "[*********************100%%**********************]  1 of 1 completed\n",
      "[*********************100%%**********************]  1 of 1 completed\n",
      "[*********************100%%**********************]  1 of 1 completed\n",
      "[*********************100%%**********************]  1 of 1 completed\n",
      "[*********************100%%**********************]  1 of 1 completed\n",
      "[*********************100%%**********************]  1 of 1 completed\n"
     ]
    }
   ],
   "source": [
    "import yfinance as yf\n",
    "import pandas as pd\n",
    "\n",
    "def get_sector_data(ticker, start_date, end_date):\n",
    "    data = yf.download(ticker, start=start_date, end=end_date)\n",
    "    return data['Adj Close'].resample('M').last()\n",
    "\n",
    "def get_sp500_and_sector_data(sp500_ticker, sector_tickers, start_date, end_date):\n",
    "    sp500_data = get_sector_data(sp500_ticker, start_date, end_date)\n",
    "    sector_data = {ticker: get_sector_data(ticker, start_date, end_date) for ticker in sector_tickers}\n",
    "    return sp500_data, sector_data\n",
    "\n",
    "# Example usage\n",
    "start_date = \"2023-08-31\"\n",
    "end_date = \"2024-01-31\"\n",
    "sp500_ticker = \"^GSPC\"\n",
    "sector_tickers = {'XLY': 'Consumer Discretionary', 'XLC': 'Communication Services', 'XLE': 'Energy',\n",
    "                   'XLF': 'Financials', 'XLI': 'Industrials', 'XLK': 'Technology', 'XLP': 'Consumer Staples',\n",
    "                   'XLRE': 'Real Estate', 'XLU': 'Utilities', 'XLV': 'Health Care'}\n",
    "\n",
    "# Get S&P 500 and sector data\n",
    "sp500_data, sector_data = get_sp500_and_sector_data(sp500_ticker, sector_tickers.keys(), start_date, end_date)\n",
    "\n",
    "# Create a pandas DataFrame\n",
    "df = pd.DataFrame({'Date': sp500_data.index, 'S&P 500': sp500_data.values})\n",
    "\n",
    "for sector_ticker, sector_name in sector_tickers.items():\n",
    "    sector_data_adj_close = sector_data[sector_ticker].values\n",
    "    df[f'{sector_name}'] = sector_data_adj_close\n",
    "\n",
    "# Convert 'Date' column to datetime\n",
    "df['Date'] = pd.to_datetime(df['Date'])\n",
    "\n",
    "# Export DataFrame to CSV\n",
    "df.to_csv('C:/Users/HusnainMansoor/Documents/market_data_monthly.csv', index=False)"
   ]
  },
  {
   "cell_type": "code",
   "execution_count": 31,
   "id": "7112d0a7",
   "metadata": {},
   "outputs": [
    {
     "name": "stdout",
     "output_type": "stream",
     "text": [
      "Recent indicators suggest that economic activity has been expanding at a solid pace. Job gains have moderated since early last year but remain strong, and the unemployment rate has remained low. Inflation has eased over the past year but remains elevated.\n",
      "The Committee seeks to achieve maximum employment and inflation at the rate of 2 percent over the longer run. The Committee judges that the risks to achieving its employment and inflation goals are moving into better balance. The economic outlook is uncertain, and the Committee remains highly attentive to inflation risks.\n",
      "In support of its goals, the Committee decided to maintain the target range for the federal funds rate at 5-1/4 to 5-1/2 percent. In considering any adjustments to the target range for the federal funds rate, the Committee will carefully assess incoming data, the evolving outlook, and the balance of risks. The Committee does not expect it will be appropriate to reduce the target range until it has gained greater confidence that inflation is moving sustainably toward 2 percent. In addition, the Committee will continue reducing its holdings of Treasury securities and agency debt and agency mortgage-backed securities, as described in its previously announced plans. The Committee is strongly committed to returning inflation to its 2 percent objective.\n",
      "In assessing the appropriate stance of monetary policy, the Committee will continue to monitor the implications of incoming information for the economic outlook. The Committee would be prepared to adjust the stance of monetary policy as appropriate if risks emerge that could impede the attainment of the Committee's goals. The Committee's assessments will take into account a wide range of information, including readings on labor market conditions, inflation pressures and inflation expectations, and financial and international developments.\n",
      "Voting for the monetary policy action were Jerome H. Powell, Chair; John C. Williams, Vice Chair; Thomas I. Barkin; Michael S. Barr; Raphael W. Bostic; Michelle W. Bowman; Lisa D. Cook; Mary C. Daly; Philip N. Jefferson; Adriana D. Kugler; Loretta J. Mester; and Christopher J. Waller.\n",
      "For media inquiries, please email [email protected] or call 202-452-2955.\n",
      "Implementation Note issued January 31, 2024\n"
     ]
    }
   ],
   "source": [
    "import requests\n",
    "from bs4 import BeautifulSoup\n",
    "\n",
    "url = \"https://www.federalreserve.gov/newsevents/pressreleases/monetary20240131a.htm\"\n",
    "\n",
    "# Send a GET request to the URL\n",
    "response = requests.get(url)\n",
    "\n",
    "# Check if the request was successful (status code 200)\n",
    "if response.status_code == 200:\n",
    "    soup = BeautifulSoup(response.text, 'html.parser')\n",
    "\n",
    "    # Find the <div> with class \"col-xs-12 col-sm-8 col-md-8\"\n",
    "    div_content = soup.find('div', class_='col-xs-12 col-sm-8 col-md-8')\n",
    "\n",
    "    # Extract the text within <p> tags\n",
    "    paragraphs = div_content.find_all('p')\n",
    "    for paragraph in paragraphs:\n",
    "        print(paragraph.get_text())\n",
    "else:\n",
    "    print(\"Failed to retrieve the webpage. Status code:\", response.status_code)"
   ]
  },
  {
   "cell_type": "code",
   "execution_count": 37,
   "id": "8a2f5882",
   "metadata": {},
   "outputs": [
    {
     "name": "stdout",
     "output_type": "stream",
     "text": [
      "In January 2024, the Federal Reserve maintained the Fed funds rate at 5.25%-5.5%, marking the fourth consecutive meeting without a change, as anticipated. Policymakers emphasized their hesitancy to reduce rates until confident in sustainable inflation progress toward 2%. Despite acknowledging eased inflation over the past year, the central bank remains vigilant, prepared to adjust monetary policy as needed to achieve employment and inflation goals.\n"
     ]
    }
   ],
   "source": [
    "print(\"In January 2024, the Federal Reserve maintained the Fed funds rate at 5.25%-5.5%, marking the fourth consecutive meeting without a change, as anticipated. Policymakers emphasized their hesitancy to reduce rates until confident in sustainable inflation progress toward 2%. Despite acknowledging eased inflation over the past year, the central bank remains vigilant, prepared to adjust monetary policy as needed to achieve employment and inflation goals.\")"
   ]
  }
 ],
 "metadata": {
  "kernelspec": {
   "display_name": "Python 3 (ipykernel)",
   "language": "python",
   "name": "python3"
  },
  "language_info": {
   "codemirror_mode": {
    "name": "ipython",
    "version": 3
   },
   "file_extension": ".py",
   "mimetype": "text/x-python",
   "name": "python",
   "nbconvert_exporter": "python",
   "pygments_lexer": "ipython3",
   "version": "3.9.7"
  }
 },
 "nbformat": 4,
 "nbformat_minor": 5
}
